{
 "cells": [
  {
   "cell_type": "code",
   "execution_count": 1,
   "metadata": {
    "id": "S85OOpfQQTZ_"
   },
   "outputs": [],
   "source": [
    "import requests\n",
    "import pandas as pd\n",
    "import sqlite3 as sq\n",
    "from time import sleep\n",
    "import networkx as nx\n",
    "import itertools\n",
    "from tqdm import tqdm\n",
    "import dtale"
   ]
  },
  {
   "cell_type": "code",
   "execution_count": 2,
   "metadata": {
    "colab": {
     "base_uri": "https://localhost:8080/",
     "height": 37
    },
    "id": "XU-WVP8NaBkB",
    "outputId": "90cad506-bab5-4483-8da1-8696056a873b"
   },
   "outputs": [
    {
     "data": {
      "text/plain": [
       "'3.39.3'"
      ]
     },
     "execution_count": 2,
     "metadata": {},
     "output_type": "execute_result"
    }
   ],
   "source": [
    "sq.sqlite_version"
   ]
  },
  {
   "cell_type": "code",
   "execution_count": 6,
   "metadata": {
    "id": "IgphN0ywT9no"
   },
   "outputs": [],
   "source": [
    "headers = {'User-Agent': \"brizileo@gmail.com\"}"
   ]
  },
  {
   "cell_type": "markdown",
   "metadata": {
    "id": "G0SmvxYyaNXM"
   },
   "source": [
    "### Create list of companies"
   ]
  },
  {
   "cell_type": "markdown",
   "metadata": {
    "id": "qYNZb2ovG0gq"
   },
   "source": [
    "Documentation of SEC EDGAR https://www.sec.gov/edgar/sec-api-documentation"
   ]
  },
  {
   "cell_type": "code",
   "execution_count": 7,
   "metadata": {
    "id": "lDcQNTJHVANL"
   },
   "outputs": [],
   "source": [
    "tickers_cik = requests.get(\"https://www.sec.gov/files/company_tickers.json\", headers=headers)"
   ]
  },
  {
   "cell_type": "code",
   "execution_count": 8,
   "metadata": {
    "id": "fIK6zTF9AADx"
   },
   "outputs": [],
   "source": [
    "companies = []"
   ]
  },
  {
   "cell_type": "code",
   "execution_count": 9,
   "metadata": {
    "id": "F-RuUriL_RTB"
   },
   "outputs": [],
   "source": [
    "for c in list(tickers_cik.json().values()):\n",
    "  companies.append([str(c['cik_str']).zfill(10),c['ticker'],c['title']])"
   ]
  },
  {
   "cell_type": "code",
   "execution_count": 10,
   "metadata": {
    "colab": {
     "base_uri": "https://localhost:8080/"
    },
    "id": "Dx2NqOOVPR78",
    "outputId": "fa096c49-2177-4ddd-b65a-e611035f9f14"
   },
   "outputs": [
    {
     "data": {
      "text/plain": [
       "[['0000320193', 'AAPL', 'Apple Inc.']]"
      ]
     },
     "execution_count": 10,
     "metadata": {},
     "output_type": "execute_result"
    }
   ],
   "source": [
    "companies[:1]"
   ]
  },
  {
   "cell_type": "code",
   "execution_count": 29,
   "metadata": {
    "colab": {
     "base_uri": "https://localhost:8080/"
    },
    "id": "JRPm89W0q_Xm",
    "outputId": "4f18c878-68bd-4cf6-ba28-bf1c9a2d83e4"
   },
   "outputs": [
    {
     "data": {
      "text/plain": [
       "11152"
      ]
     },
     "execution_count": 29,
     "metadata": {},
     "output_type": "execute_result"
    }
   ],
   "source": [
    "len(companies)"
   ]
  },
  {
   "cell_type": "code",
   "execution_count": 30,
   "metadata": {
    "id": "7t3DbptVzjzH",
    "tags": []
   },
   "outputs": [
    {
     "data": {
      "text/html": [
       "\n",
       "        <iframe\n",
       "            width=\"100%\"\n",
       "            height=\"475\"\n",
       "            src=\"http://Leonardos-MacBook-Pro.local:40001/dtale/iframe/5\"\n",
       "            frameborder=\"0\"\n",
       "            allowfullscreen\n",
       "            \n",
       "        ></iframe>\n",
       "        "
      ],
      "text/plain": [
       "<IPython.lib.display.IFrame at 0x157a4ba90>"
      ]
     },
     "metadata": {},
     "output_type": "display_data"
    },
    {
     "data": {
      "text/plain": []
     },
     "execution_count": 30,
     "metadata": {},
     "output_type": "execute_result"
    }
   ],
   "source": [
    "dtale.show(pd.DataFrame(data=companies, columns=['cik','ticker','name']))"
   ]
  },
  {
   "cell_type": "markdown",
   "metadata": {
    "id": "krDrArgbbJyx"
   },
   "source": [
    "### Create SQLite db"
   ]
  },
  {
   "cell_type": "code",
   "execution_count": null,
   "metadata": {
    "id": "EirALyUONJ8M"
   },
   "outputs": [],
   "source": [
    "conn = sq.connect('./SEC_reporting.sqlite')\n",
    "cursor = conn.cursor()\n",
    "cursor.execute('CREATE TABLE tblFact (ticker TEXT,company TEXT,fact TEXT,form TEXT,end TEXT,start TEXT,val NUMERIC,fy TEXT,fp TEXT,filed TEXT,frame TEXT)')\n",
    "#cursor.execute('DROP TABLE tblFact')\n",
    "conn.commit()\n",
    "conn.close()"
   ]
  },
  {
   "cell_type": "markdown",
   "metadata": {
    "id": "6RxJ84OwbeSZ"
   },
   "source": [
    "### Retrieve company data"
   ]
  },
  {
   "cell_type": "code",
   "execution_count": null,
   "metadata": {
    "id": "P71SWRaiNI8i"
   },
   "outputs": [],
   "source": [
    "#companyFacts = []\n",
    "conn = sq.connect('./SEC_reporting.sqlite')\n",
    "cursor = conn.cursor()\n",
    "\n",
    "#loop through companies and extract facts\n",
    "for c in companies:\n",
    "  url = \"https://data.sec.gov/api/xbrl/companyfacts/CIK\"+c[0]+\".json\"\n",
    "\n",
    "  try:\n",
    "    json=requests.get(url, headers=headers).json()\n",
    "    sleep(0.12)\n",
    "    output = []\n",
    "\n",
    "    #limit the extraction to companies with US-GAAP or IFR-Full accounting standards report\n",
    "    if 'us-gaap' in json['facts']:\n",
    "      for f in json['facts']['us-gaap']:\n",
    "        #limit extraction to companies where facts key has USD units\n",
    "        if 'USD' in json['facts']['us-gaap'][f]['units']:\n",
    "          for r in json['facts']['us-gaap'][f]['units']['USD']:\n",
    "            #limit extrction to form 10-K\n",
    "            if r['form'] == '10-K':\n",
    "              if 'frame' in r:\n",
    "                frame = r['frame']\n",
    "              else:\n",
    "                frame = ''\n",
    "              if 'start' in r:\n",
    "                start = r['start']\n",
    "              else:\n",
    "                start = ''                \n",
    "              output.append([c[1],c[2],f,r['form'],r['end'],start,r['val'],r['fy'],r['fp'],r['filed'],frame])\n",
    "              cursor.execute('INSERT INTO tblFact VALUES (?,?,?,?,?,?,?,?,?,?,?)',(c[1],c[2],f,r['form'],r['end'],start,r['val'],r['fy'],r['fp'],r['filed'],frame))              \n",
    "    elif 'ifrs-full' in json['facts']:\n",
    "      for f in json['facts']['ifrs-full']:\n",
    "        #limit extraction to companies where facts key has USD units\n",
    "        if 'USD' in json['facts']['ifrs-full'][f]['units']:\n",
    "          for r in json['facts']['ifrs-full'][f]['units']['USD']:\n",
    "            #limit extrction to form 20-K\n",
    "            if r['form'] == '20-F':\n",
    "              if 'frame' in r:\n",
    "                frame = r['frame']\n",
    "              else:\n",
    "                frame = '' \n",
    "              if 'start' in r:\n",
    "                start = r['start']\n",
    "              else:\n",
    "                start = ''                                \n",
    "              output.append([c[1],c[2],f,r['form'],r['end'],start,r['val'],r['fy'],r['fp'],r['filed'],frame])             \n",
    "              cursor.execute('INSERT INTO tblFact VALUES (?,?,?,?,?,?,?,?,?,?,?)',(c[1],c[2],f,r['form'],r['end'],start,r['val'],r['fy'],r['fp'],r['filed'],frame))     \n",
    "    else: \n",
    "      print('no us-gaap nor ifrs-full '+c[1]+' '+c[0])\n",
    "\n",
    "    if len(output) == 0:\n",
    "      print('no USD or Form available '+c[1]+' '+c[0])\n",
    "\n",
    "  except:\n",
    "    print('failed '+c[1]+' '+c[0])  \n",
    "    pass         \n",
    "\n",
    "conn.commit()\n",
    "conn.close()"
   ]
  },
  {
   "cell_type": "code",
   "execution_count": null,
   "metadata": {
    "id": "TGeCFKEc6xfj"
   },
   "outputs": [],
   "source": [
    "#Create Master Fact table removing duplicates\n",
    "conn = sq.connect('./SEC_reporting.sqlite')\n",
    "cursor = conn.cursor()\n",
    "cursor.execute(\n",
    "\"\"\"\n",
    "CREATE TABLE  tblMasterFact AS\n",
    "SELECT *\n",
    "FROM \n",
    "(\n",
    "\n",
    "    SELECT *, ROW_NUMBER() OVER (PARTITION BY ticker,fact,fy ORDER BY end DESC, julianday(end)-julianday(start) DESC, filed DESC) RN\n",
    "    FROM tblFact\n",
    ") X\n",
    "WHERE RN = 1\n",
    "\"\"\"    \n",
    ")\n",
    "conn.commit()\n",
    "conn.close()\n",
    "#check tests section to see why ROW_NUMBER is justified"
   ]
  },
  {
   "cell_type": "code",
   "execution_count": null,
   "metadata": {
    "id": "kUjkpA0dLtfB"
   },
   "outputs": [],
   "source": [
    "#drop table tblFact to save space\n",
    "conn = sq.connect('./SEC_reporting.sqlite')\n",
    "cursor = conn.cursor()\n",
    "cursor.execute('DROP TABLE tblFact')\n",
    "conn.commit()\n",
    "conn.close()"
   ]
  },
  {
   "cell_type": "code",
   "execution_count": null,
   "metadata": {
    "id": "RntCIVptsSjP"
   },
   "outputs": [],
   "source": [
    "#Remove companies with null fy\n",
    "conn = sq.connect('./SEC_reporting.sqlite')\n",
    "cursor = conn.cursor()\n",
    "cursor.execute(\n",
    "\"\"\"\n",
    "DELETE \n",
    "FROM tblMasterFact\n",
    "WHERE ticker IN (\n",
    "  SELECT DISTINCT ticker\n",
    "  FROM tblMasterFact\n",
    "  WHERE fy IS NULL\n",
    "  )\n",
    "\"\"\"\n",
    ")\n",
    "conn.commit()\n",
    "conn.close()"
   ]
  },
  {
   "cell_type": "code",
   "execution_count": 4,
   "metadata": {},
   "outputs": [
    {
     "data": {
      "text/plain": [
       "<sqlite3.Cursor at 0x15f463dc0>"
      ]
     },
     "execution_count": 4,
     "metadata": {},
     "output_type": "execute_result"
    }
   ],
   "source": [
    "#Create nodeId\n",
    "conn = sq.connect('./SEC_reporting.sqlite')\n",
    "cursor = conn.cursor()\n",
    "cursor.execute(\n",
    "\"\"\"\n",
    "ALTER TABLE tblMasterFact ADD nodeID VARCHAR\n",
    "\"\"\"\n",
    ")\n",
    "cursor.execute(\n",
    "\"\"\"\n",
    "UPDATE tblMasterFact\n",
    "SET nodeID = ticker || '_' || fy\n",
    "\"\"\"\n",
    ")\n",
    "conn.commit()\n",
    "conn.close()"
   ]
  },
  {
   "cell_type": "code",
   "execution_count": 45,
   "metadata": {},
   "outputs": [],
   "source": [
    "conn = sq.connect('./SEC_reporting.sqlite')\n",
    "cursor = conn.cursor()"
   ]
  },
  {
   "cell_type": "code",
   "execution_count": 17,
   "metadata": {},
   "outputs": [],
   "source": [
    "cursor.execute(\n",
    "\"\"\"\n",
    "ALTER TABLE tblMasterFact ADD percentileVal REAL\n",
    "\"\"\"\n",
    ")\n",
    "conn.commit()"
   ]
  },
  {
   "cell_type": "code",
   "execution_count": 17,
   "metadata": {},
   "outputs": [
    {
     "data": {
      "text/plain": [
       "<sqlite3.Cursor at 0x146bb72d0>"
      ]
     },
     "execution_count": 17,
     "metadata": {},
     "output_type": "execute_result"
    }
   ],
   "source": [
    "#Create normalised fact value based on percentile rank\n",
    "cursor.execute(\n",
    "\"\"\"\n",
    "UPDATE tblMasterFact\n",
    "SET percentileVal = u.pVal\n",
    "FROM (SELECT *,PERCENT_RANK() OVER (PARTITION BY fact ORDER BY val ASC) AS pVal FROM tblMasterFact) u\n",
    "WHERE tblMasterFact.nodeId = u.nodeID AND tblMasterFact.fact = u.fact\n",
    "\"\"\"\n",
    ")"
   ]
  },
  {
   "cell_type": "code",
   "execution_count": 46,
   "metadata": {},
   "outputs": [],
   "source": [
    "cursor.execute(\n",
    "\"\"\"\n",
    "ALTER TABLE tblMasterFact ADD numberOfFactsPerNode REAL\n",
    "\"\"\"\n",
    ")\n",
    "conn.commit()"
   ]
  },
  {
   "cell_type": "code",
   "execution_count": 47,
   "metadata": {},
   "outputs": [
    {
     "data": {
      "text/plain": [
       "<sqlite3.Cursor at 0x179b7cc00>"
      ]
     },
     "execution_count": 47,
     "metadata": {},
     "output_type": "execute_result"
    }
   ],
   "source": [
    "#Add column for number of facts per nod\n",
    "cursor.execute(\n",
    "\"\"\"\n",
    "UPDATE tblMasterFact\n",
    "SET numberOfFactsPerNode = u.nFacts\n",
    "FROM (SELECT *,COUNT(*) OVER (PARTITION BY nodeID) AS nFacts FROM tblMasterFact) u\n",
    "WHERE tblMasterFact.nodeId = u.nodeID AND tblMasterFact.fact = u.fact\n",
    "\"\"\"\n",
    ")"
   ]
  },
  {
   "cell_type": "code",
   "execution_count": 48,
   "metadata": {},
   "outputs": [],
   "source": [
    "conn.commit()\n",
    "conn.close()"
   ]
  },
  {
   "cell_type": "markdown",
   "metadata": {
    "id": "D4yxILbWbmnE",
    "tags": []
   },
   "source": [
    "### QC of MasterFact output"
   ]
  },
  {
   "cell_type": "code",
   "execution_count": 24,
   "metadata": {
    "id": "3BGlWV3cXpfV"
   },
   "outputs": [],
   "source": [
    "pdConn = sq.connect('./SEC_reporting.sqlite')"
   ]
  },
  {
   "cell_type": "code",
   "execution_count": null,
   "metadata": {
    "collapsed": true,
    "id": "TPGsW-JZZq-9",
    "jupyter": {
     "outputs_hidden": true
    },
    "tags": []
   },
   "outputs": [],
   "source": [
    "#check most frequent facts\n",
    "pd.read_sql(\n",
    "\"\"\"\n",
    "SELECT fact, COUNT(DISTINCT ticker) \n",
    "FROM tblFact \n",
    "GROUP BY fact ORDER BY 2 DESC\n",
    "\"\"\"\n",
    ",pdConn)"
   ]
  },
  {
   "cell_type": "code",
   "execution_count": null,
   "metadata": {
    "colab": {
     "base_uri": "https://localhost:8080/",
     "height": 80
    },
    "id": "Oq8de2qpaF7z",
    "outputId": "1f9e191f-3373-4f74-869c-57f0c094d6ff"
   },
   "outputs": [
    {
     "data": {
      "text/html": [
       "\n",
       "  <div id=\"df-fe8d97cd-ce68-4505-adb6-2b002ccad67b\">\n",
       "    <div class=\"colab-df-container\">\n",
       "      <div>\n",
       "<style scoped>\n",
       "    .dataframe tbody tr th:only-of-type {\n",
       "        vertical-align: middle;\n",
       "    }\n",
       "\n",
       "    .dataframe tbody tr th {\n",
       "        vertical-align: top;\n",
       "    }\n",
       "\n",
       "    .dataframe thead th {\n",
       "        text-align: right;\n",
       "    }\n",
       "</style>\n",
       "<table border=\"1\" class=\"dataframe\">\n",
       "  <thead>\n",
       "    <tr style=\"text-align: right;\">\n",
       "      <th></th>\n",
       "      <th>COUNT(DISTINCT ticker)</th>\n",
       "    </tr>\n",
       "  </thead>\n",
       "  <tbody>\n",
       "    <tr>\n",
       "      <th>0</th>\n",
       "      <td>8773</td>\n",
       "    </tr>\n",
       "  </tbody>\n",
       "</table>\n",
       "</div>\n",
       "      <button class=\"colab-df-convert\" onclick=\"convertToInteractive('df-fe8d97cd-ce68-4505-adb6-2b002ccad67b')\"\n",
       "              title=\"Convert this dataframe to an interactive table.\"\n",
       "              style=\"display:none;\">\n",
       "        \n",
       "  <svg xmlns=\"http://www.w3.org/2000/svg\" height=\"24px\"viewBox=\"0 0 24 24\"\n",
       "       width=\"24px\">\n",
       "    <path d=\"M0 0h24v24H0V0z\" fill=\"none\"/>\n",
       "    <path d=\"M18.56 5.44l.94 2.06.94-2.06 2.06-.94-2.06-.94-.94-2.06-.94 2.06-2.06.94zm-11 1L8.5 8.5l.94-2.06 2.06-.94-2.06-.94L8.5 2.5l-.94 2.06-2.06.94zm10 10l.94 2.06.94-2.06 2.06-.94-2.06-.94-.94-2.06-.94 2.06-2.06.94z\"/><path d=\"M17.41 7.96l-1.37-1.37c-.4-.4-.92-.59-1.43-.59-.52 0-1.04.2-1.43.59L10.3 9.45l-7.72 7.72c-.78.78-.78 2.05 0 2.83L4 21.41c.39.39.9.59 1.41.59.51 0 1.02-.2 1.41-.59l7.78-7.78 2.81-2.81c.8-.78.8-2.07 0-2.86zM5.41 20L4 18.59l7.72-7.72 1.47 1.35L5.41 20z\"/>\n",
       "  </svg>\n",
       "      </button>\n",
       "      \n",
       "  <style>\n",
       "    .colab-df-container {\n",
       "      display:flex;\n",
       "      flex-wrap:wrap;\n",
       "      gap: 12px;\n",
       "    }\n",
       "\n",
       "    .colab-df-convert {\n",
       "      background-color: #E8F0FE;\n",
       "      border: none;\n",
       "      border-radius: 50%;\n",
       "      cursor: pointer;\n",
       "      display: none;\n",
       "      fill: #1967D2;\n",
       "      height: 32px;\n",
       "      padding: 0 0 0 0;\n",
       "      width: 32px;\n",
       "    }\n",
       "\n",
       "    .colab-df-convert:hover {\n",
       "      background-color: #E2EBFA;\n",
       "      box-shadow: 0px 1px 2px rgba(60, 64, 67, 0.3), 0px 1px 3px 1px rgba(60, 64, 67, 0.15);\n",
       "      fill: #174EA6;\n",
       "    }\n",
       "\n",
       "    [theme=dark] .colab-df-convert {\n",
       "      background-color: #3B4455;\n",
       "      fill: #D2E3FC;\n",
       "    }\n",
       "\n",
       "    [theme=dark] .colab-df-convert:hover {\n",
       "      background-color: #434B5C;\n",
       "      box-shadow: 0px 1px 3px 1px rgba(0, 0, 0, 0.15);\n",
       "      filter: drop-shadow(0px 1px 2px rgba(0, 0, 0, 0.3));\n",
       "      fill: #FFFFFF;\n",
       "    }\n",
       "  </style>\n",
       "\n",
       "      <script>\n",
       "        const buttonEl =\n",
       "          document.querySelector('#df-fe8d97cd-ce68-4505-adb6-2b002ccad67b button.colab-df-convert');\n",
       "        buttonEl.style.display =\n",
       "          google.colab.kernel.accessAllowed ? 'block' : 'none';\n",
       "\n",
       "        async function convertToInteractive(key) {\n",
       "          const element = document.querySelector('#df-fe8d97cd-ce68-4505-adb6-2b002ccad67b');\n",
       "          const dataTable =\n",
       "            await google.colab.kernel.invokeFunction('convertToInteractive',\n",
       "                                                     [key], {});\n",
       "          if (!dataTable) return;\n",
       "\n",
       "          const docLinkHtml = 'Like what you see? Visit the ' +\n",
       "            '<a target=\"_blank\" href=https://colab.research.google.com/notebooks/data_table.ipynb>data table notebook</a>'\n",
       "            + ' to learn more about interactive tables.';\n",
       "          element.innerHTML = '';\n",
       "          dataTable['output_type'] = 'display_data';\n",
       "          await google.colab.output.renderOutput(dataTable, element);\n",
       "          const docLink = document.createElement('div');\n",
       "          docLink.innerHTML = docLinkHtml;\n",
       "          element.appendChild(docLink);\n",
       "        }\n",
       "      </script>\n",
       "    </div>\n",
       "  </div>\n",
       "  "
      ],
      "text/plain": [
       "   COUNT(DISTINCT ticker)\n",
       "0                    8773"
      ]
     },
     "execution_count": 14,
     "metadata": {},
     "output_type": "execute_result"
    }
   ],
   "source": [
    "#total companies extracted\n",
    "pd.read_sql(\"SELECT COUNT(DISTINCT ticker) FROM tblFact\",pdConn)"
   ]
  },
  {
   "cell_type": "code",
   "execution_count": null,
   "metadata": {
    "colab": {
     "base_uri": "https://localhost:8080/",
     "height": 80
    },
    "id": "1s3vQ8uZcjIh",
    "outputId": "24828a2d-bb4a-4d67-e62f-4510167b1fd6"
   },
   "outputs": [
    {
     "data": {
      "text/html": [
       "\n",
       "  <div id=\"df-b2e54054-d278-4c51-87b1-03aa108ae2f4\">\n",
       "    <div class=\"colab-df-container\">\n",
       "      <div>\n",
       "<style scoped>\n",
       "    .dataframe tbody tr th:only-of-type {\n",
       "        vertical-align: middle;\n",
       "    }\n",
       "\n",
       "    .dataframe tbody tr th {\n",
       "        vertical-align: top;\n",
       "    }\n",
       "\n",
       "    .dataframe thead th {\n",
       "        text-align: right;\n",
       "    }\n",
       "</style>\n",
       "<table border=\"1\" class=\"dataframe\">\n",
       "  <thead>\n",
       "    <tr style=\"text-align: right;\">\n",
       "      <th></th>\n",
       "      <th>COUNT(*)</th>\n",
       "    </tr>\n",
       "  </thead>\n",
       "  <tbody>\n",
       "    <tr>\n",
       "      <th>0</th>\n",
       "      <td>21450664</td>\n",
       "    </tr>\n",
       "  </tbody>\n",
       "</table>\n",
       "</div>\n",
       "      <button class=\"colab-df-convert\" onclick=\"convertToInteractive('df-b2e54054-d278-4c51-87b1-03aa108ae2f4')\"\n",
       "              title=\"Convert this dataframe to an interactive table.\"\n",
       "              style=\"display:none;\">\n",
       "        \n",
       "  <svg xmlns=\"http://www.w3.org/2000/svg\" height=\"24px\"viewBox=\"0 0 24 24\"\n",
       "       width=\"24px\">\n",
       "    <path d=\"M0 0h24v24H0V0z\" fill=\"none\"/>\n",
       "    <path d=\"M18.56 5.44l.94 2.06.94-2.06 2.06-.94-2.06-.94-.94-2.06-.94 2.06-2.06.94zm-11 1L8.5 8.5l.94-2.06 2.06-.94-2.06-.94L8.5 2.5l-.94 2.06-2.06.94zm10 10l.94 2.06.94-2.06 2.06-.94-2.06-.94-.94-2.06-.94 2.06-2.06.94z\"/><path d=\"M17.41 7.96l-1.37-1.37c-.4-.4-.92-.59-1.43-.59-.52 0-1.04.2-1.43.59L10.3 9.45l-7.72 7.72c-.78.78-.78 2.05 0 2.83L4 21.41c.39.39.9.59 1.41.59.51 0 1.02-.2 1.41-.59l7.78-7.78 2.81-2.81c.8-.78.8-2.07 0-2.86zM5.41 20L4 18.59l7.72-7.72 1.47 1.35L5.41 20z\"/>\n",
       "  </svg>\n",
       "      </button>\n",
       "      \n",
       "  <style>\n",
       "    .colab-df-container {\n",
       "      display:flex;\n",
       "      flex-wrap:wrap;\n",
       "      gap: 12px;\n",
       "    }\n",
       "\n",
       "    .colab-df-convert {\n",
       "      background-color: #E8F0FE;\n",
       "      border: none;\n",
       "      border-radius: 50%;\n",
       "      cursor: pointer;\n",
       "      display: none;\n",
       "      fill: #1967D2;\n",
       "      height: 32px;\n",
       "      padding: 0 0 0 0;\n",
       "      width: 32px;\n",
       "    }\n",
       "\n",
       "    .colab-df-convert:hover {\n",
       "      background-color: #E2EBFA;\n",
       "      box-shadow: 0px 1px 2px rgba(60, 64, 67, 0.3), 0px 1px 3px 1px rgba(60, 64, 67, 0.15);\n",
       "      fill: #174EA6;\n",
       "    }\n",
       "\n",
       "    [theme=dark] .colab-df-convert {\n",
       "      background-color: #3B4455;\n",
       "      fill: #D2E3FC;\n",
       "    }\n",
       "\n",
       "    [theme=dark] .colab-df-convert:hover {\n",
       "      background-color: #434B5C;\n",
       "      box-shadow: 0px 1px 3px 1px rgba(0, 0, 0, 0.15);\n",
       "      filter: drop-shadow(0px 1px 2px rgba(0, 0, 0, 0.3));\n",
       "      fill: #FFFFFF;\n",
       "    }\n",
       "  </style>\n",
       "\n",
       "      <script>\n",
       "        const buttonEl =\n",
       "          document.querySelector('#df-b2e54054-d278-4c51-87b1-03aa108ae2f4 button.colab-df-convert');\n",
       "        buttonEl.style.display =\n",
       "          google.colab.kernel.accessAllowed ? 'block' : 'none';\n",
       "\n",
       "        async function convertToInteractive(key) {\n",
       "          const element = document.querySelector('#df-b2e54054-d278-4c51-87b1-03aa108ae2f4');\n",
       "          const dataTable =\n",
       "            await google.colab.kernel.invokeFunction('convertToInteractive',\n",
       "                                                     [key], {});\n",
       "          if (!dataTable) return;\n",
       "\n",
       "          const docLinkHtml = 'Like what you see? Visit the ' +\n",
       "            '<a target=\"_blank\" href=https://colab.research.google.com/notebooks/data_table.ipynb>data table notebook</a>'\n",
       "            + ' to learn more about interactive tables.';\n",
       "          element.innerHTML = '';\n",
       "          dataTable['output_type'] = 'display_data';\n",
       "          await google.colab.output.renderOutput(dataTable, element);\n",
       "          const docLink = document.createElement('div');\n",
       "          docLink.innerHTML = docLinkHtml;\n",
       "          element.appendChild(docLink);\n",
       "        }\n",
       "      </script>\n",
       "    </div>\n",
       "  </div>\n",
       "  "
      ],
      "text/plain": [
       "   COUNT(*)\n",
       "0  21450664"
      ]
     },
     "execution_count": 15,
     "metadata": {},
     "output_type": "execute_result"
    }
   ],
   "source": [
    "#total rows\n",
    "pd.read_sql(\"SELECT COUNT(*) FROM tblFact\",pdConn)"
   ]
  },
  {
   "cell_type": "code",
   "execution_count": null,
   "metadata": {
    "colab": {
     "base_uri": "https://localhost:8080/",
     "height": 80
    },
    "id": "PyQh-Hx-I0Rm",
    "outputId": "73601b9d-33f6-474f-fb33-71f797365988"
   },
   "outputs": [
    {
     "data": {
      "text/html": [
       "\n",
       "  <div id=\"df-75e1c0bc-40bb-4af0-b1f4-4a9c221391d6\">\n",
       "    <div class=\"colab-df-container\">\n",
       "      <div>\n",
       "<style scoped>\n",
       "    .dataframe tbody tr th:only-of-type {\n",
       "        vertical-align: middle;\n",
       "    }\n",
       "\n",
       "    .dataframe tbody tr th {\n",
       "        vertical-align: top;\n",
       "    }\n",
       "\n",
       "    .dataframe thead th {\n",
       "        text-align: right;\n",
       "    }\n",
       "</style>\n",
       "<table border=\"1\" class=\"dataframe\">\n",
       "  <thead>\n",
       "    <tr style=\"text-align: right;\">\n",
       "      <th></th>\n",
       "      <th>COUNT(*)</th>\n",
       "    </tr>\n",
       "  </thead>\n",
       "  <tbody>\n",
       "    <tr>\n",
       "      <th>0</th>\n",
       "      <td>9192878</td>\n",
       "    </tr>\n",
       "  </tbody>\n",
       "</table>\n",
       "</div>\n",
       "      <button class=\"colab-df-convert\" onclick=\"convertToInteractive('df-75e1c0bc-40bb-4af0-b1f4-4a9c221391d6')\"\n",
       "              title=\"Convert this dataframe to an interactive table.\"\n",
       "              style=\"display:none;\">\n",
       "        \n",
       "  <svg xmlns=\"http://www.w3.org/2000/svg\" height=\"24px\"viewBox=\"0 0 24 24\"\n",
       "       width=\"24px\">\n",
       "    <path d=\"M0 0h24v24H0V0z\" fill=\"none\"/>\n",
       "    <path d=\"M18.56 5.44l.94 2.06.94-2.06 2.06-.94-2.06-.94-.94-2.06-.94 2.06-2.06.94zm-11 1L8.5 8.5l.94-2.06 2.06-.94-2.06-.94L8.5 2.5l-.94 2.06-2.06.94zm10 10l.94 2.06.94-2.06 2.06-.94-2.06-.94-.94-2.06-.94 2.06-2.06.94z\"/><path d=\"M17.41 7.96l-1.37-1.37c-.4-.4-.92-.59-1.43-.59-.52 0-1.04.2-1.43.59L10.3 9.45l-7.72 7.72c-.78.78-.78 2.05 0 2.83L4 21.41c.39.39.9.59 1.41.59.51 0 1.02-.2 1.41-.59l7.78-7.78 2.81-2.81c.8-.78.8-2.07 0-2.86zM5.41 20L4 18.59l7.72-7.72 1.47 1.35L5.41 20z\"/>\n",
       "  </svg>\n",
       "      </button>\n",
       "      \n",
       "  <style>\n",
       "    .colab-df-container {\n",
       "      display:flex;\n",
       "      flex-wrap:wrap;\n",
       "      gap: 12px;\n",
       "    }\n",
       "\n",
       "    .colab-df-convert {\n",
       "      background-color: #E8F0FE;\n",
       "      border: none;\n",
       "      border-radius: 50%;\n",
       "      cursor: pointer;\n",
       "      display: none;\n",
       "      fill: #1967D2;\n",
       "      height: 32px;\n",
       "      padding: 0 0 0 0;\n",
       "      width: 32px;\n",
       "    }\n",
       "\n",
       "    .colab-df-convert:hover {\n",
       "      background-color: #E2EBFA;\n",
       "      box-shadow: 0px 1px 2px rgba(60, 64, 67, 0.3), 0px 1px 3px 1px rgba(60, 64, 67, 0.15);\n",
       "      fill: #174EA6;\n",
       "    }\n",
       "\n",
       "    [theme=dark] .colab-df-convert {\n",
       "      background-color: #3B4455;\n",
       "      fill: #D2E3FC;\n",
       "    }\n",
       "\n",
       "    [theme=dark] .colab-df-convert:hover {\n",
       "      background-color: #434B5C;\n",
       "      box-shadow: 0px 1px 3px 1px rgba(0, 0, 0, 0.15);\n",
       "      filter: drop-shadow(0px 1px 2px rgba(0, 0, 0, 0.3));\n",
       "      fill: #FFFFFF;\n",
       "    }\n",
       "  </style>\n",
       "\n",
       "      <script>\n",
       "        const buttonEl =\n",
       "          document.querySelector('#df-75e1c0bc-40bb-4af0-b1f4-4a9c221391d6 button.colab-df-convert');\n",
       "        buttonEl.style.display =\n",
       "          google.colab.kernel.accessAllowed ? 'block' : 'none';\n",
       "\n",
       "        async function convertToInteractive(key) {\n",
       "          const element = document.querySelector('#df-75e1c0bc-40bb-4af0-b1f4-4a9c221391d6');\n",
       "          const dataTable =\n",
       "            await google.colab.kernel.invokeFunction('convertToInteractive',\n",
       "                                                     [key], {});\n",
       "          if (!dataTable) return;\n",
       "\n",
       "          const docLinkHtml = 'Like what you see? Visit the ' +\n",
       "            '<a target=\"_blank\" href=https://colab.research.google.com/notebooks/data_table.ipynb>data table notebook</a>'\n",
       "            + ' to learn more about interactive tables.';\n",
       "          element.innerHTML = '';\n",
       "          dataTable['output_type'] = 'display_data';\n",
       "          await google.colab.output.renderOutput(dataTable, element);\n",
       "          const docLink = document.createElement('div');\n",
       "          docLink.innerHTML = docLinkHtml;\n",
       "          element.appendChild(docLink);\n",
       "        }\n",
       "      </script>\n",
       "    </div>\n",
       "  </div>\n",
       "  "
      ],
      "text/plain": [
       "   COUNT(*)\n",
       "0   9192878"
      ]
     },
     "execution_count": 48,
     "metadata": {},
     "output_type": "execute_result"
    }
   ],
   "source": [
    "pd.read_sql(\"SELECT COUNT(*) FROM tblMasterFact\",pdConn)"
   ]
  },
  {
   "cell_type": "code",
   "execution_count": null,
   "metadata": {
    "colab": {
     "base_uri": "https://localhost:8080/",
     "height": 49
    },
    "id": "bzzSsVnT5FuF",
    "outputId": "d81a6860-41ba-45c5-e07d-2d1107b2d33d"
   },
   "outputs": [
    {
     "data": {
      "text/html": [
       "\n",
       "  <div id=\"df-f18c669e-2a6f-4f1d-a61d-bfbeeaa3ea11\">\n",
       "    <div class=\"colab-df-container\">\n",
       "      <div>\n",
       "<style scoped>\n",
       "    .dataframe tbody tr th:only-of-type {\n",
       "        vertical-align: middle;\n",
       "    }\n",
       "\n",
       "    .dataframe tbody tr th {\n",
       "        vertical-align: top;\n",
       "    }\n",
       "\n",
       "    .dataframe thead th {\n",
       "        text-align: right;\n",
       "    }\n",
       "</style>\n",
       "<table border=\"1\" class=\"dataframe\">\n",
       "  <thead>\n",
       "    <tr style=\"text-align: right;\">\n",
       "      <th></th>\n",
       "      <th>ticker</th>\n",
       "      <th>fact</th>\n",
       "      <th>fy</th>\n",
       "    </tr>\n",
       "  </thead>\n",
       "  <tbody>\n",
       "  </tbody>\n",
       "</table>\n",
       "</div>\n",
       "      <button class=\"colab-df-convert\" onclick=\"convertToInteractive('df-f18c669e-2a6f-4f1d-a61d-bfbeeaa3ea11')\"\n",
       "              title=\"Convert this dataframe to an interactive table.\"\n",
       "              style=\"display:none;\">\n",
       "        \n",
       "  <svg xmlns=\"http://www.w3.org/2000/svg\" height=\"24px\"viewBox=\"0 0 24 24\"\n",
       "       width=\"24px\">\n",
       "    <path d=\"M0 0h24v24H0V0z\" fill=\"none\"/>\n",
       "    <path d=\"M18.56 5.44l.94 2.06.94-2.06 2.06-.94-2.06-.94-.94-2.06-.94 2.06-2.06.94zm-11 1L8.5 8.5l.94-2.06 2.06-.94-2.06-.94L8.5 2.5l-.94 2.06-2.06.94zm10 10l.94 2.06.94-2.06 2.06-.94-2.06-.94-.94-2.06-.94 2.06-2.06.94z\"/><path d=\"M17.41 7.96l-1.37-1.37c-.4-.4-.92-.59-1.43-.59-.52 0-1.04.2-1.43.59L10.3 9.45l-7.72 7.72c-.78.78-.78 2.05 0 2.83L4 21.41c.39.39.9.59 1.41.59.51 0 1.02-.2 1.41-.59l7.78-7.78 2.81-2.81c.8-.78.8-2.07 0-2.86zM5.41 20L4 18.59l7.72-7.72 1.47 1.35L5.41 20z\"/>\n",
       "  </svg>\n",
       "      </button>\n",
       "      \n",
       "  <style>\n",
       "    .colab-df-container {\n",
       "      display:flex;\n",
       "      flex-wrap:wrap;\n",
       "      gap: 12px;\n",
       "    }\n",
       "\n",
       "    .colab-df-convert {\n",
       "      background-color: #E8F0FE;\n",
       "      border: none;\n",
       "      border-radius: 50%;\n",
       "      cursor: pointer;\n",
       "      display: none;\n",
       "      fill: #1967D2;\n",
       "      height: 32px;\n",
       "      padding: 0 0 0 0;\n",
       "      width: 32px;\n",
       "    }\n",
       "\n",
       "    .colab-df-convert:hover {\n",
       "      background-color: #E2EBFA;\n",
       "      box-shadow: 0px 1px 2px rgba(60, 64, 67, 0.3), 0px 1px 3px 1px rgba(60, 64, 67, 0.15);\n",
       "      fill: #174EA6;\n",
       "    }\n",
       "\n",
       "    [theme=dark] .colab-df-convert {\n",
       "      background-color: #3B4455;\n",
       "      fill: #D2E3FC;\n",
       "    }\n",
       "\n",
       "    [theme=dark] .colab-df-convert:hover {\n",
       "      background-color: #434B5C;\n",
       "      box-shadow: 0px 1px 3px 1px rgba(0, 0, 0, 0.15);\n",
       "      filter: drop-shadow(0px 1px 2px rgba(0, 0, 0, 0.3));\n",
       "      fill: #FFFFFF;\n",
       "    }\n",
       "  </style>\n",
       "\n",
       "      <script>\n",
       "        const buttonEl =\n",
       "          document.querySelector('#df-f18c669e-2a6f-4f1d-a61d-bfbeeaa3ea11 button.colab-df-convert');\n",
       "        buttonEl.style.display =\n",
       "          google.colab.kernel.accessAllowed ? 'block' : 'none';\n",
       "\n",
       "        async function convertToInteractive(key) {\n",
       "          const element = document.querySelector('#df-f18c669e-2a6f-4f1d-a61d-bfbeeaa3ea11');\n",
       "          const dataTable =\n",
       "            await google.colab.kernel.invokeFunction('convertToInteractive',\n",
       "                                                     [key], {});\n",
       "          if (!dataTable) return;\n",
       "\n",
       "          const docLinkHtml = 'Like what you see? Visit the ' +\n",
       "            '<a target=\"_blank\" href=https://colab.research.google.com/notebooks/data_table.ipynb>data table notebook</a>'\n",
       "            + ' to learn more about interactive tables.';\n",
       "          element.innerHTML = '';\n",
       "          dataTable['output_type'] = 'display_data';\n",
       "          await google.colab.output.renderOutput(dataTable, element);\n",
       "          const docLink = document.createElement('div');\n",
       "          docLink.innerHTML = docLinkHtml;\n",
       "          element.appendChild(docLink);\n",
       "        }\n",
       "      </script>\n",
       "    </div>\n",
       "  </div>\n",
       "  "
      ],
      "text/plain": [
       "Empty DataFrame\n",
       "Columns: [ticker, fact, fy]\n",
       "Index: []"
      ]
     },
     "execution_count": 6,
     "metadata": {},
     "output_type": "execute_result"
    }
   ],
   "source": [
    "#check duplicates\n",
    "\n",
    "pd.read_sql(\n",
    "\"\"\"\n",
    "SELECT ticker,fact,fy \n",
    "FROM tblMasterFact\n",
    "GROUP BY ticker,fact,fy \n",
    "HAVING COUNT(DISTINCT val) > 1\n",
    "\"\"\"\n",
    ",pdConn)\n",
    "\n",
    "#the selection of the following fields in the dense_rank in MasterFacts table was not sufficientto find unique combination\n",
    "#end DESC, julianday(end)-julianday(start) DESC, filed DESC\n",
    "#however this test show that no real ambuguity is left\n",
    "#we can replace the dense_rak with row_number"
   ]
  },
  {
   "cell_type": "code",
   "execution_count": null,
   "metadata": {
    "colab": {
     "base_uri": "https://localhost:8080/",
     "height": 49
    },
    "id": "MnQIcMQaI_eZ",
    "outputId": "2e399af7-0ec0-4c9d-d2af-cc95afed5cf2"
   },
   "outputs": [
    {
     "data": {
      "text/html": [
       "\n",
       "  <div id=\"df-1aa49e3a-2c90-4fda-b406-341c837d0a7b\">\n",
       "    <div class=\"colab-df-container\">\n",
       "      <div>\n",
       "<style scoped>\n",
       "    .dataframe tbody tr th:only-of-type {\n",
       "        vertical-align: middle;\n",
       "    }\n",
       "\n",
       "    .dataframe tbody tr th {\n",
       "        vertical-align: top;\n",
       "    }\n",
       "\n",
       "    .dataframe thead th {\n",
       "        text-align: right;\n",
       "    }\n",
       "</style>\n",
       "<table border=\"1\" class=\"dataframe\">\n",
       "  <thead>\n",
       "    <tr style=\"text-align: right;\">\n",
       "      <th></th>\n",
       "      <th>ticker</th>\n",
       "      <th>fact</th>\n",
       "      <th>fy</th>\n",
       "    </tr>\n",
       "  </thead>\n",
       "  <tbody>\n",
       "  </tbody>\n",
       "</table>\n",
       "</div>\n",
       "      <button class=\"colab-df-convert\" onclick=\"convertToInteractive('df-1aa49e3a-2c90-4fda-b406-341c837d0a7b')\"\n",
       "              title=\"Convert this dataframe to an interactive table.\"\n",
       "              style=\"display:none;\">\n",
       "        \n",
       "  <svg xmlns=\"http://www.w3.org/2000/svg\" height=\"24px\"viewBox=\"0 0 24 24\"\n",
       "       width=\"24px\">\n",
       "    <path d=\"M0 0h24v24H0V0z\" fill=\"none\"/>\n",
       "    <path d=\"M18.56 5.44l.94 2.06.94-2.06 2.06-.94-2.06-.94-.94-2.06-.94 2.06-2.06.94zm-11 1L8.5 8.5l.94-2.06 2.06-.94-2.06-.94L8.5 2.5l-.94 2.06-2.06.94zm10 10l.94 2.06.94-2.06 2.06-.94-2.06-.94-.94-2.06-.94 2.06-2.06.94z\"/><path d=\"M17.41 7.96l-1.37-1.37c-.4-.4-.92-.59-1.43-.59-.52 0-1.04.2-1.43.59L10.3 9.45l-7.72 7.72c-.78.78-.78 2.05 0 2.83L4 21.41c.39.39.9.59 1.41.59.51 0 1.02-.2 1.41-.59l7.78-7.78 2.81-2.81c.8-.78.8-2.07 0-2.86zM5.41 20L4 18.59l7.72-7.72 1.47 1.35L5.41 20z\"/>\n",
       "  </svg>\n",
       "      </button>\n",
       "      \n",
       "  <style>\n",
       "    .colab-df-container {\n",
       "      display:flex;\n",
       "      flex-wrap:wrap;\n",
       "      gap: 12px;\n",
       "    }\n",
       "\n",
       "    .colab-df-convert {\n",
       "      background-color: #E8F0FE;\n",
       "      border: none;\n",
       "      border-radius: 50%;\n",
       "      cursor: pointer;\n",
       "      display: none;\n",
       "      fill: #1967D2;\n",
       "      height: 32px;\n",
       "      padding: 0 0 0 0;\n",
       "      width: 32px;\n",
       "    }\n",
       "\n",
       "    .colab-df-convert:hover {\n",
       "      background-color: #E2EBFA;\n",
       "      box-shadow: 0px 1px 2px rgba(60, 64, 67, 0.3), 0px 1px 3px 1px rgba(60, 64, 67, 0.15);\n",
       "      fill: #174EA6;\n",
       "    }\n",
       "\n",
       "    [theme=dark] .colab-df-convert {\n",
       "      background-color: #3B4455;\n",
       "      fill: #D2E3FC;\n",
       "    }\n",
       "\n",
       "    [theme=dark] .colab-df-convert:hover {\n",
       "      background-color: #434B5C;\n",
       "      box-shadow: 0px 1px 3px 1px rgba(0, 0, 0, 0.15);\n",
       "      filter: drop-shadow(0px 1px 2px rgba(0, 0, 0, 0.3));\n",
       "      fill: #FFFFFF;\n",
       "    }\n",
       "  </style>\n",
       "\n",
       "      <script>\n",
       "        const buttonEl =\n",
       "          document.querySelector('#df-1aa49e3a-2c90-4fda-b406-341c837d0a7b button.colab-df-convert');\n",
       "        buttonEl.style.display =\n",
       "          google.colab.kernel.accessAllowed ? 'block' : 'none';\n",
       "\n",
       "        async function convertToInteractive(key) {\n",
       "          const element = document.querySelector('#df-1aa49e3a-2c90-4fda-b406-341c837d0a7b');\n",
       "          const dataTable =\n",
       "            await google.colab.kernel.invokeFunction('convertToInteractive',\n",
       "                                                     [key], {});\n",
       "          if (!dataTable) return;\n",
       "\n",
       "          const docLinkHtml = 'Like what you see? Visit the ' +\n",
       "            '<a target=\"_blank\" href=https://colab.research.google.com/notebooks/data_table.ipynb>data table notebook</a>'\n",
       "            + ' to learn more about interactive tables.';\n",
       "          element.innerHTML = '';\n",
       "          dataTable['output_type'] = 'display_data';\n",
       "          await google.colab.output.renderOutput(dataTable, element);\n",
       "          const docLink = document.createElement('div');\n",
       "          docLink.innerHTML = docLinkHtml;\n",
       "          element.appendChild(docLink);\n",
       "        }\n",
       "      </script>\n",
       "    </div>\n",
       "  </div>\n",
       "  "
      ],
      "text/plain": [
       "Empty DataFrame\n",
       "Columns: [ticker, fact, fy]\n",
       "Index: []"
      ]
     },
     "execution_count": 4,
     "metadata": {},
     "output_type": "execute_result"
    }
   ],
   "source": [
    "#check duplicates\n",
    "\n",
    "pd.read_sql(\n",
    "\"\"\"\n",
    "SELECT ticker,fact,fy \n",
    "FROM tblMasterFact\n",
    "GROUP BY ticker,fact,fy \n",
    "HAVING COUNT(*) > 1\n",
    "\"\"\"\n",
    ",pdConn)"
   ]
  },
  {
   "cell_type": "code",
   "execution_count": null,
   "metadata": {
    "colab": {
     "base_uri": "https://localhost:8080/",
     "height": 49
    },
    "id": "xVnv45Hqr2YA",
    "outputId": "fa527bac-98ef-4586-cfe7-99e864cf03cb"
   },
   "outputs": [
    {
     "data": {
      "text/html": [
       "\n",
       "  <div id=\"df-666c2f0e-e737-4644-99c8-b7c40a0f7d30\">\n",
       "    <div class=\"colab-df-container\">\n",
       "      <div>\n",
       "<style scoped>\n",
       "    .dataframe tbody tr th:only-of-type {\n",
       "        vertical-align: middle;\n",
       "    }\n",
       "\n",
       "    .dataframe tbody tr th {\n",
       "        vertical-align: top;\n",
       "    }\n",
       "\n",
       "    .dataframe thead th {\n",
       "        text-align: right;\n",
       "    }\n",
       "</style>\n",
       "<table border=\"1\" class=\"dataframe\">\n",
       "  <thead>\n",
       "    <tr style=\"text-align: right;\">\n",
       "      <th></th>\n",
       "      <th>ticker</th>\n",
       "    </tr>\n",
       "  </thead>\n",
       "  <tbody>\n",
       "  </tbody>\n",
       "</table>\n",
       "</div>\n",
       "      <button class=\"colab-df-convert\" onclick=\"convertToInteractive('df-666c2f0e-e737-4644-99c8-b7c40a0f7d30')\"\n",
       "              title=\"Convert this dataframe to an interactive table.\"\n",
       "              style=\"display:none;\">\n",
       "        \n",
       "  <svg xmlns=\"http://www.w3.org/2000/svg\" height=\"24px\"viewBox=\"0 0 24 24\"\n",
       "       width=\"24px\">\n",
       "    <path d=\"M0 0h24v24H0V0z\" fill=\"none\"/>\n",
       "    <path d=\"M18.56 5.44l.94 2.06.94-2.06 2.06-.94-2.06-.94-.94-2.06-.94 2.06-2.06.94zm-11 1L8.5 8.5l.94-2.06 2.06-.94-2.06-.94L8.5 2.5l-.94 2.06-2.06.94zm10 10l.94 2.06.94-2.06 2.06-.94-2.06-.94-.94-2.06-.94 2.06-2.06.94z\"/><path d=\"M17.41 7.96l-1.37-1.37c-.4-.4-.92-.59-1.43-.59-.52 0-1.04.2-1.43.59L10.3 9.45l-7.72 7.72c-.78.78-.78 2.05 0 2.83L4 21.41c.39.39.9.59 1.41.59.51 0 1.02-.2 1.41-.59l7.78-7.78 2.81-2.81c.8-.78.8-2.07 0-2.86zM5.41 20L4 18.59l7.72-7.72 1.47 1.35L5.41 20z\"/>\n",
       "  </svg>\n",
       "      </button>\n",
       "      \n",
       "  <style>\n",
       "    .colab-df-container {\n",
       "      display:flex;\n",
       "      flex-wrap:wrap;\n",
       "      gap: 12px;\n",
       "    }\n",
       "\n",
       "    .colab-df-convert {\n",
       "      background-color: #E8F0FE;\n",
       "      border: none;\n",
       "      border-radius: 50%;\n",
       "      cursor: pointer;\n",
       "      display: none;\n",
       "      fill: #1967D2;\n",
       "      height: 32px;\n",
       "      padding: 0 0 0 0;\n",
       "      width: 32px;\n",
       "    }\n",
       "\n",
       "    .colab-df-convert:hover {\n",
       "      background-color: #E2EBFA;\n",
       "      box-shadow: 0px 1px 2px rgba(60, 64, 67, 0.3), 0px 1px 3px 1px rgba(60, 64, 67, 0.15);\n",
       "      fill: #174EA6;\n",
       "    }\n",
       "\n",
       "    [theme=dark] .colab-df-convert {\n",
       "      background-color: #3B4455;\n",
       "      fill: #D2E3FC;\n",
       "    }\n",
       "\n",
       "    [theme=dark] .colab-df-convert:hover {\n",
       "      background-color: #434B5C;\n",
       "      box-shadow: 0px 1px 3px 1px rgba(0, 0, 0, 0.15);\n",
       "      filter: drop-shadow(0px 1px 2px rgba(0, 0, 0, 0.3));\n",
       "      fill: #FFFFFF;\n",
       "    }\n",
       "  </style>\n",
       "\n",
       "      <script>\n",
       "        const buttonEl =\n",
       "          document.querySelector('#df-666c2f0e-e737-4644-99c8-b7c40a0f7d30 button.colab-df-convert');\n",
       "        buttonEl.style.display =\n",
       "          google.colab.kernel.accessAllowed ? 'block' : 'none';\n",
       "\n",
       "        async function convertToInteractive(key) {\n",
       "          const element = document.querySelector('#df-666c2f0e-e737-4644-99c8-b7c40a0f7d30');\n",
       "          const dataTable =\n",
       "            await google.colab.kernel.invokeFunction('convertToInteractive',\n",
       "                                                     [key], {});\n",
       "          if (!dataTable) return;\n",
       "\n",
       "          const docLinkHtml = 'Like what you see? Visit the ' +\n",
       "            '<a target=\"_blank\" href=https://colab.research.google.com/notebooks/data_table.ipynb>data table notebook</a>'\n",
       "            + ' to learn more about interactive tables.';\n",
       "          element.innerHTML = '';\n",
       "          dataTable['output_type'] = 'display_data';\n",
       "          await google.colab.output.renderOutput(dataTable, element);\n",
       "          const docLink = document.createElement('div');\n",
       "          docLink.innerHTML = docLinkHtml;\n",
       "          element.appendChild(docLink);\n",
       "        }\n",
       "      </script>\n",
       "    </div>\n",
       "  </div>\n",
       "  "
      ],
      "text/plain": [
       "Empty DataFrame\n",
       "Columns: [ticker]\n",
       "Index: []"
      ]
     },
     "execution_count": 39,
     "metadata": {},
     "output_type": "execute_result"
    }
   ],
   "source": [
    "#check cases where fy is null\n",
    "pd.read_sql(\n",
    "\"\"\"\n",
    "SELECT DISTINCT ticker\n",
    "FROM tblMasterFact\n",
    "WHERE fy IS NULL\n",
    "\"\"\"\n",
    ",pdConn)"
   ]
  },
  {
   "cell_type": "code",
   "execution_count": null,
   "metadata": {
    "colab": {
     "base_uri": "https://localhost:8080/",
     "height": 419
    },
    "id": "sLzVsH2iJ7jo",
    "outputId": "1818aad4-0f11-448b-afad-0e2efc937399"
   },
   "outputs": [
    {
     "data": {
      "text/html": [
       "\n",
       "  <div id=\"df-3f00bf90-9153-4489-8509-6adbcad5a6e3\">\n",
       "    <div class=\"colab-df-container\">\n",
       "      <div>\n",
       "<style scoped>\n",
       "    .dataframe tbody tr th:only-of-type {\n",
       "        vertical-align: middle;\n",
       "    }\n",
       "\n",
       "    .dataframe tbody tr th {\n",
       "        vertical-align: top;\n",
       "    }\n",
       "\n",
       "    .dataframe thead th {\n",
       "        text-align: right;\n",
       "    }\n",
       "</style>\n",
       "<table border=\"1\" class=\"dataframe\">\n",
       "  <thead>\n",
       "    <tr style=\"text-align: right;\">\n",
       "      <th></th>\n",
       "      <th>fact</th>\n",
       "      <th>COUNT(DISTINCT ticker)</th>\n",
       "    </tr>\n",
       "  </thead>\n",
       "  <tbody>\n",
       "    <tr>\n",
       "      <th>0</th>\n",
       "      <td>Assets</td>\n",
       "      <td>8569</td>\n",
       "    </tr>\n",
       "    <tr>\n",
       "      <th>1</th>\n",
       "      <td>LiabilitiesAndStockholdersEquity</td>\n",
       "      <td>8363</td>\n",
       "    </tr>\n",
       "    <tr>\n",
       "      <th>2</th>\n",
       "      <td>NetIncomeLoss</td>\n",
       "      <td>8216</td>\n",
       "    </tr>\n",
       "    <tr>\n",
       "      <th>3</th>\n",
       "      <td>StockholdersEquity</td>\n",
       "      <td>8175</td>\n",
       "    </tr>\n",
       "    <tr>\n",
       "      <th>4</th>\n",
       "      <td>RetainedEarningsAccumulatedDeficit</td>\n",
       "      <td>8117</td>\n",
       "    </tr>\n",
       "    <tr>\n",
       "      <th>...</th>\n",
       "      <td>...</td>\n",
       "      <td>...</td>\n",
       "    </tr>\n",
       "    <tr>\n",
       "      <th>63</th>\n",
       "      <td>StandardProductWarrantyAccrual</td>\n",
       "      <td>290</td>\n",
       "    </tr>\n",
       "    <tr>\n",
       "      <th>64</th>\n",
       "      <td>OtherAccruedLiabilitiesNoncurrent</td>\n",
       "      <td>261</td>\n",
       "    </tr>\n",
       "    <tr>\n",
       "      <th>65</th>\n",
       "      <td>StandardProductWarrantyAccrualPayments</td>\n",
       "      <td>242</td>\n",
       "    </tr>\n",
       "    <tr>\n",
       "      <th>66</th>\n",
       "      <td>StandardProductWarrantyAccrualWarrantiesIssued</td>\n",
       "      <td>219</td>\n",
       "    </tr>\n",
       "    <tr>\n",
       "      <th>67</th>\n",
       "      <td>NontradeReceivablesCurrent</td>\n",
       "      <td>117</td>\n",
       "    </tr>\n",
       "  </tbody>\n",
       "</table>\n",
       "<p>68 rows × 2 columns</p>\n",
       "</div>\n",
       "      <button class=\"colab-df-convert\" onclick=\"convertToInteractive('df-3f00bf90-9153-4489-8509-6adbcad5a6e3')\"\n",
       "              title=\"Convert this dataframe to an interactive table.\"\n",
       "              style=\"display:none;\">\n",
       "        \n",
       "  <svg xmlns=\"http://www.w3.org/2000/svg\" height=\"24px\"viewBox=\"0 0 24 24\"\n",
       "       width=\"24px\">\n",
       "    <path d=\"M0 0h24v24H0V0z\" fill=\"none\"/>\n",
       "    <path d=\"M18.56 5.44l.94 2.06.94-2.06 2.06-.94-2.06-.94-.94-2.06-.94 2.06-2.06.94zm-11 1L8.5 8.5l.94-2.06 2.06-.94-2.06-.94L8.5 2.5l-.94 2.06-2.06.94zm10 10l.94 2.06.94-2.06 2.06-.94-2.06-.94-.94-2.06-.94 2.06-2.06.94z\"/><path d=\"M17.41 7.96l-1.37-1.37c-.4-.4-.92-.59-1.43-.59-.52 0-1.04.2-1.43.59L10.3 9.45l-7.72 7.72c-.78.78-.78 2.05 0 2.83L4 21.41c.39.39.9.59 1.41.59.51 0 1.02-.2 1.41-.59l7.78-7.78 2.81-2.81c.8-.78.8-2.07 0-2.86zM5.41 20L4 18.59l7.72-7.72 1.47 1.35L5.41 20z\"/>\n",
       "  </svg>\n",
       "      </button>\n",
       "      \n",
       "  <style>\n",
       "    .colab-df-container {\n",
       "      display:flex;\n",
       "      flex-wrap:wrap;\n",
       "      gap: 12px;\n",
       "    }\n",
       "\n",
       "    .colab-df-convert {\n",
       "      background-color: #E8F0FE;\n",
       "      border: none;\n",
       "      border-radius: 50%;\n",
       "      cursor: pointer;\n",
       "      display: none;\n",
       "      fill: #1967D2;\n",
       "      height: 32px;\n",
       "      padding: 0 0 0 0;\n",
       "      width: 32px;\n",
       "    }\n",
       "\n",
       "    .colab-df-convert:hover {\n",
       "      background-color: #E2EBFA;\n",
       "      box-shadow: 0px 1px 2px rgba(60, 64, 67, 0.3), 0px 1px 3px 1px rgba(60, 64, 67, 0.15);\n",
       "      fill: #174EA6;\n",
       "    }\n",
       "\n",
       "    [theme=dark] .colab-df-convert {\n",
       "      background-color: #3B4455;\n",
       "      fill: #D2E3FC;\n",
       "    }\n",
       "\n",
       "    [theme=dark] .colab-df-convert:hover {\n",
       "      background-color: #434B5C;\n",
       "      box-shadow: 0px 1px 3px 1px rgba(0, 0, 0, 0.15);\n",
       "      filter: drop-shadow(0px 1px 2px rgba(0, 0, 0, 0.3));\n",
       "      fill: #FFFFFF;\n",
       "    }\n",
       "  </style>\n",
       "\n",
       "      <script>\n",
       "        const buttonEl =\n",
       "          document.querySelector('#df-3f00bf90-9153-4489-8509-6adbcad5a6e3 button.colab-df-convert');\n",
       "        buttonEl.style.display =\n",
       "          google.colab.kernel.accessAllowed ? 'block' : 'none';\n",
       "\n",
       "        async function convertToInteractive(key) {\n",
       "          const element = document.querySelector('#df-3f00bf90-9153-4489-8509-6adbcad5a6e3');\n",
       "          const dataTable =\n",
       "            await google.colab.kernel.invokeFunction('convertToInteractive',\n",
       "                                                     [key], {});\n",
       "          if (!dataTable) return;\n",
       "\n",
       "          const docLinkHtml = 'Like what you see? Visit the ' +\n",
       "            '<a target=\"_blank\" href=https://colab.research.google.com/notebooks/data_table.ipynb>data table notebook</a>'\n",
       "            + ' to learn more about interactive tables.';\n",
       "          element.innerHTML = '';\n",
       "          dataTable['output_type'] = 'display_data';\n",
       "          await google.colab.output.renderOutput(dataTable, element);\n",
       "          const docLink = document.createElement('div');\n",
       "          docLink.innerHTML = docLinkHtml;\n",
       "          element.appendChild(docLink);\n",
       "        }\n",
       "      </script>\n",
       "    </div>\n",
       "  </div>\n",
       "  "
      ],
      "text/plain": [
       "                                              fact  COUNT(DISTINCT ticker)\n",
       "0                                           Assets                    8569\n",
       "1                 LiabilitiesAndStockholdersEquity                    8363\n",
       "2                                    NetIncomeLoss                    8216\n",
       "3                               StockholdersEquity                    8175\n",
       "4               RetainedEarningsAccumulatedDeficit                    8117\n",
       "..                                             ...                     ...\n",
       "63                  StandardProductWarrantyAccrual                     290\n",
       "64               OtherAccruedLiabilitiesNoncurrent                     261\n",
       "65          StandardProductWarrantyAccrualPayments                     242\n",
       "66  StandardProductWarrantyAccrualWarrantiesIssued                     219\n",
       "67                      NontradeReceivablesCurrent                     117\n",
       "\n",
       "[68 rows x 2 columns]"
      ]
     },
     "execution_count": 33,
     "metadata": {},
     "output_type": "execute_result"
    }
   ],
   "source": [
    "\n",
    "pd.read_sql(\n",
    "\"\"\"\n",
    "SELECT A.fact, COUNT(DISTINCT ticker)\n",
    "FROM tblMasterFact A\n",
    "INNER JOIN tblFactList B\n",
    "ON A.fact = B.fact\n",
    "WHERE fy >= '2012'\n",
    "GROUP BY A.fact\n",
    "ORDER BY 2 DESC\n",
    "\"\"\"\n",
    ",pdConn)"
   ]
  },
  {
   "cell_type": "code",
   "execution_count": 25,
   "metadata": {
    "id": "zhsgt13OxS5G"
   },
   "outputs": [],
   "source": [
    "pdConn.close()"
   ]
  },
  {
   "cell_type": "markdown",
   "metadata": {
    "id": "bhOyehtEfWd2",
    "tags": []
   },
   "source": [
    "### Main analysis"
   ]
  },
  {
   "cell_type": "markdown",
   "metadata": {
    "tags": []
   },
   "source": [
    "#### Discre Approach (obsolete)"
   ]
  },
  {
   "cell_type": "code",
   "execution_count": 8,
   "metadata": {},
   "outputs": [],
   "source": [
    "#Create Table of Bipartite graph with nodes (tickerFy) -[HAS_PROPERTY]-> (factDecile)\n",
    "conn = sq.connect('./SEC_reporting.sqlite')\n",
    "cursor = conn.cursor()\n",
    "cursor.execute(\n",
    "\"\"\"\n",
    "CREATE TABLE  tblBipartiteLinks AS\n",
    "SELECT *\n",
    "        ,COUNT(*) OVER (PARTITION BY tickerFy) AS Nbfacts\n",
    "        ,DENSE_RANK() OVER (ORDER BY tickerFy ASC) AS RN\n",
    "FROM \n",
    "    (\n",
    "    SELECT \n",
    "      ticker\n",
    "      ,val\n",
    "      ,ticker || '_' || fy AS tickerFy\n",
    "      ,fact || '_' || CAST((NTILE(10) OVER (PARTITION BY fact ORDER BY val ASC)) AS TEXT) AS factDecile\n",
    "    FROM tblMasterFact\n",
    "    ) X\n",
    "\"\"\"    \n",
    ")\n",
    "conn.commit()\n",
    "conn.close()"
   ]
  },
  {
   "cell_type": "code",
   "execution_count": 9,
   "metadata": {},
   "outputs": [],
   "source": [
    "#Create Index on factDecile\n",
    "conn = sq.connect('./SEC_reporting.sqlite')\n",
    "cursor = conn.cursor()\n",
    "cursor.execute(\n",
    "\"\"\"\n",
    "CREATE INDEX fd ON tblBipartiteLinks(factDecile)\n",
    "\"\"\"    \n",
    ")\n",
    "conn.commit()\n",
    "conn.close()"
   ]
  },
  {
   "cell_type": "code",
   "execution_count": 31,
   "metadata": {},
   "outputs": [],
   "source": [
    "#Projected graph table\n",
    "conn = sq.connect('./SEC_reporting.sqlite')\n",
    "cursor = conn.cursor()\n",
    "cursor.execute(\n",
    "\"\"\"\n",
    "CREATE TABLE tblProjectedWeightedGraph (SourceTickerFy TEXT, TargetTickerFy TEXT, JaccardSimilarity REAL)\n",
    "\"\"\"    \n",
    ")\n",
    "conn.commit()\n",
    "conn.close()"
   ]
  },
  {
   "cell_type": "code",
   "execution_count": 4,
   "metadata": {},
   "outputs": [],
   "source": [
    "#Create list for the iteration \n",
    "conn = sq.connect('./SEC_reporting.sqlite')\n",
    "tickerFyList = pd.read_sql(\n",
    "\"\"\"\n",
    "SELECT DISTINCT tickerFy\n",
    "FROM tblBipartiteLinks A1\n",
    "ORDER BY RN\n",
    "\"\"\"\n",
    ",conn).values\n",
    "conn.close()"
   ]
  },
  {
   "cell_type": "code",
   "execution_count": 32,
   "metadata": {},
   "outputs": [
    {
     "name": "stderr",
     "output_type": "stream",
     "text": [
      "100%|██████████| 57556/57556 [12:44:49<00:00,  1.25it/s]  \n"
     ]
    }
   ],
   "source": [
    "#Create projected graph\n",
    "conn = sq.connect('./SEC_reporting.sqlite')\n",
    "cursor = conn.cursor()\n",
    "\n",
    "for t in tqdm(tickerFyList):\n",
    "    cursor.execute(\n",
    "    \"\"\"\n",
    "    INSERT INTO tblProjectedWeightedGraph (SourceTickerFy,TargetTickerFy,JaccardSimilarity)\n",
    "    \n",
    "    SELECT \n",
    "             A1.tickerFy AS SourceTickerFy\n",
    "            ,A2.tickerFy AS TargetTickerFy\n",
    "            ,COUNT(*)*1./(A1.Nbfacts + A2.NbFacts - COUNT(*)) JaccardSimilarity\n",
    "    FROM (\n",
    "            SELECT *\n",
    "            FROM tblBipartiteLinks\n",
    "            WHERE tickerFy = '\"\"\" + t[0] + \"\"\"'\n",
    "         ) A1\n",
    "    INNER JOIN tblBipartiteLinks A2 \n",
    "        ON A1.factDecile = A2.factDecile\n",
    "    WHERE A1.RN < A2.RN \n",
    "    GROUP BY A1.tickerFy,A2.tickerFy\n",
    "    \"\"\"    \n",
    "    )\n",
    "    \n",
    "conn.commit()\n",
    "conn.close()"
   ]
  },
  {
   "cell_type": "code",
   "execution_count": 10,
   "metadata": {},
   "outputs": [],
   "source": [
    "#Drop tables to save space - refer to backup sqlite SEC_reporting_20221119.sqlite\n",
    "conn = sq.connect('./SEC_reporting.sqlite')\n",
    "cursor = conn.cursor()\n",
    "cursor.execute(\n",
    "\"\"\"\n",
    "DROP TABLE tblBipartiteLinks\n",
    "\"\"\"    \n",
    ")\n",
    "conn.commit()\n",
    "conn.close()"
   ]
  },
  {
   "cell_type": "code",
   "execution_count": 11,
   "metadata": {},
   "outputs": [],
   "source": [
    "conn = sq.connect('./SEC_reporting.sqlite')\n",
    "cursor = conn.cursor()\n",
    "cursor.execute(\n",
    "\"\"\"\n",
    "DROP TABLE tblProjectedWeightedGraph\n",
    "\"\"\"    \n",
    ")\n",
    "conn.commit()\n",
    "conn.close()"
   ]
  },
  {
   "cell_type": "code",
   "execution_count": 12,
   "metadata": {},
   "outputs": [],
   "source": [
    "conn = sq.connect('./SEC_reporting.sqlite')\n",
    "cursor = conn.cursor()\n",
    "cursor.execute(\n",
    "\"\"\"\n",
    "VACUUM\n",
    "\"\"\"    \n",
    ")\n",
    "conn.commit()\n",
    "conn.close()"
   ]
  },
  {
   "cell_type": "markdown",
   "metadata": {
    "jp-MarkdownHeadingCollapsed": true,
    "tags": []
   },
   "source": [
    "##### Exploration"
   ]
  },
  {
   "cell_type": "code",
   "execution_count": 11,
   "metadata": {},
   "outputs": [],
   "source": [
    "pdConn = sq.connect('./SEC_reporting.sqlite')"
   ]
  },
  {
   "cell_type": "code",
   "execution_count": null,
   "metadata": {},
   "outputs": [],
   "source": [
    "dtale.show(pd.read_sql(\n",
    "\"\"\"\n",
    "SELECT *\n",
    "FROM tblProjectedWeightedGraph\n",
    "WHERE SourceTickerFy LIKE 'AAPL%' OR TargetTickerFy LIKE 'AAPL%'\n",
    "ORDER BY JaccardSimilarity DESC\n",
    "LIMIT 200\n",
    "\"\"\"\n",
    ",pdConn))"
   ]
  },
  {
   "cell_type": "code",
   "execution_count": null,
   "metadata": {
    "collapsed": true,
    "jupyter": {
     "outputs_hidden": true
    },
    "tags": []
   },
   "outputs": [],
   "source": [
    "dtale.show(pd.read_sql(\n",
    "\"\"\"\n",
    "SELECT \n",
    "    A.tickerFy AS A_tickerFy,A.val AS A_val,\n",
    "    B.tickerFy AS B_tickerFy,B.val AS B_val,B.factDecile AS B_factDecile\n",
    "FROM (SELECT * FROM tblBipartiteLinks WHERE tickerFy = 'AMGN_2016')  A\n",
    "INNER JOIN (SELECT * FROM tblBipartiteLinks WHERE tickerFy ='AAPL_2017')  B\n",
    "ON A.factDecile = B.factDecile\n",
    "ORDER BY A.tickerFy , B.tickerFy \n",
    "\"\"\"\n",
    ",pdConn))"
   ]
  },
  {
   "cell_type": "code",
   "execution_count": null,
   "metadata": {},
   "outputs": [],
   "source": [
    "pd.read_sql(\n",
    "\"\"\"\n",
    "SELECT MIN(JaccardSimilarity) JaccardSimilarity\n",
    "FROM \n",
    "    (\n",
    "    SELECT PERCENT_RANK() OVER (ORDER BY JaccardSimilarity ASC) RN,JaccardSimilarity\n",
    "    FROM tblProjectedWeightedGraph\n",
    "    ) X\n",
    "WHERE RN = 0.95\n",
    "\n",
    "\"\"\"\n",
    ",pdConn)"
   ]
  },
  {
   "cell_type": "code",
   "execution_count": 59,
   "metadata": {},
   "outputs": [],
   "source": [
    "pdConn.close()"
   ]
  },
  {
   "cell_type": "code",
   "execution_count": null,
   "metadata": {},
   "outputs": [],
   "source": [
    "dtale.show(pd.read_sql(\n",
    "\"\"\"\n",
    "SELECT *\n",
    "FROM tblProjectedWeightedGraph\n",
    "WHERE SourceTickerFy LIKE 'BRK-A%' OR TargetTickerFy LIKE 'BRK-A%'\n",
    "ORDER BY JaccardSimilarity DESC\n",
    "LIMIT 200\n",
    "\"\"\"\n",
    ",pdConn))"
   ]
  },
  {
   "cell_type": "code",
   "execution_count": 48,
   "metadata": {
    "id": "OjXQxYDuPGjf"
   },
   "outputs": [],
   "source": [
    "pdConn = sq.connect('./SEC_reporting.sqlite')"
   ]
  },
  {
   "cell_type": "code",
   "execution_count": 33,
   "metadata": {
    "tags": []
   },
   "outputs": [
    {
     "data": {
      "text/html": [
       "<div>\n",
       "<style scoped>\n",
       "    .dataframe tbody tr th:only-of-type {\n",
       "        vertical-align: middle;\n",
       "    }\n",
       "\n",
       "    .dataframe tbody tr th {\n",
       "        vertical-align: top;\n",
       "    }\n",
       "\n",
       "    .dataframe thead th {\n",
       "        text-align: right;\n",
       "    }\n",
       "</style>\n",
       "<table border=\"1\" class=\"dataframe\">\n",
       "  <thead>\n",
       "    <tr style=\"text-align: right;\">\n",
       "      <th></th>\n",
       "      <th>COUNT(*)</th>\n",
       "    </tr>\n",
       "  </thead>\n",
       "  <tbody>\n",
       "    <tr>\n",
       "      <th>0</th>\n",
       "      <td>1169530557</td>\n",
       "    </tr>\n",
       "  </tbody>\n",
       "</table>\n",
       "</div>"
      ],
      "text/plain": [
       "     COUNT(*)\n",
       "0  1169530557"
      ]
     },
     "execution_count": 33,
     "metadata": {},
     "output_type": "execute_result"
    }
   ],
   "source": [
    "pd.read_sql(\n",
    "\"\"\"\n",
    "SELECT COUNT(*)\n",
    "FROM tblProjectedWeightedGraph\n",
    "\"\"\"\n",
    ",pdConn)"
   ]
  },
  {
   "cell_type": "code",
   "execution_count": 6,
   "metadata": {
    "collapsed": true,
    "jupyter": {
     "outputs_hidden": true
    },
    "tags": []
   },
   "outputs": [
    {
     "data": {
      "text/html": [
       "<div>\n",
       "<style scoped>\n",
       "    .dataframe tbody tr th:only-of-type {\n",
       "        vertical-align: middle;\n",
       "    }\n",
       "\n",
       "    .dataframe tbody tr th {\n",
       "        vertical-align: top;\n",
       "    }\n",
       "\n",
       "    .dataframe thead th {\n",
       "        text-align: right;\n",
       "    }\n",
       "</style>\n",
       "<table border=\"1\" class=\"dataframe\">\n",
       "  <thead>\n",
       "    <tr style=\"text-align: right;\">\n",
       "      <th></th>\n",
       "      <th>tickerFy</th>\n",
       "    </tr>\n",
       "  </thead>\n",
       "  <tbody>\n",
       "    <tr>\n",
       "      <th>0</th>\n",
       "      <td>AAAU_2018</td>\n",
       "    </tr>\n",
       "    <tr>\n",
       "      <th>1</th>\n",
       "      <td>AAAU_2019</td>\n",
       "    </tr>\n",
       "    <tr>\n",
       "      <th>2</th>\n",
       "      <td>AAAU_2020</td>\n",
       "    </tr>\n",
       "    <tr>\n",
       "      <th>3</th>\n",
       "      <td>AAAU_2021</td>\n",
       "    </tr>\n",
       "    <tr>\n",
       "      <th>4</th>\n",
       "      <td>AAC-UN_2021</td>\n",
       "    </tr>\n",
       "    <tr>\n",
       "      <th>...</th>\n",
       "      <td>...</td>\n",
       "    </tr>\n",
       "    <tr>\n",
       "      <th>57551</th>\n",
       "      <td>Z_2017</td>\n",
       "    </tr>\n",
       "    <tr>\n",
       "      <th>57552</th>\n",
       "      <td>Z_2018</td>\n",
       "    </tr>\n",
       "    <tr>\n",
       "      <th>57553</th>\n",
       "      <td>Z_2019</td>\n",
       "    </tr>\n",
       "    <tr>\n",
       "      <th>57554</th>\n",
       "      <td>Z_2020</td>\n",
       "    </tr>\n",
       "    <tr>\n",
       "      <th>57555</th>\n",
       "      <td>Z_2021</td>\n",
       "    </tr>\n",
       "  </tbody>\n",
       "</table>\n",
       "<p>57556 rows × 1 columns</p>\n",
       "</div>"
      ],
      "text/plain": [
       "          tickerFy\n",
       "0        AAAU_2018\n",
       "1        AAAU_2019\n",
       "2        AAAU_2020\n",
       "3        AAAU_2021\n",
       "4      AAC-UN_2021\n",
       "...            ...\n",
       "57551       Z_2017\n",
       "57552       Z_2018\n",
       "57553       Z_2019\n",
       "57554       Z_2020\n",
       "57555       Z_2021\n",
       "\n",
       "[57556 rows x 1 columns]"
      ]
     },
     "execution_count": 6,
     "metadata": {},
     "output_type": "execute_result"
    }
   ],
   "source": [
    "pd.read_sql(\n",
    "\"\"\"\n",
    "SELECT DISTINCT tickerFy\n",
    "FROM tblBipartiteLinks A1\n",
    "\"\"\"\n",
    ",pdConn)"
   ]
  },
  {
   "cell_type": "code",
   "execution_count": 30,
   "metadata": {},
   "outputs": [],
   "source": [
    "pdConn.close()"
   ]
  },
  {
   "cell_type": "markdown",
   "metadata": {
    "tags": []
   },
   "source": [
    "#### Percentile Rank approach"
   ]
  },
  {
   "cell_type": "code",
   "execution_count": 3,
   "metadata": {},
   "outputs": [],
   "source": [
    "#Create similarity matrix\n",
    "conn = sq.connect('./SEC_reporting.sqlite')\n",
    "cursor = conn.cursor()\n",
    "cursor.execute(\n",
    "\"\"\"\n",
    "CREATE TABLE tblSimilarityScoring  (SourceTickerFy VARCHAR, TargetTickerFy VARCHAR, SimilarityScore REAL)\n",
    "\"\"\"    \n",
    ")\n",
    "conn.commit()\n",
    "conn.close()"
   ]
  },
  {
   "cell_type": "code",
   "execution_count": 2,
   "metadata": {},
   "outputs": [],
   "source": [
    "#Create similarity matrix\n",
    "conn = sq.connect('./SEC_reporting.sqlite')\n",
    "cursor = conn.cursor()\n",
    "cursor.execute(\n",
    "\"\"\"\n",
    "DROP TABLE tblSimilarityScoring\n",
    "\"\"\"    \n",
    ")\n",
    "conn.commit()\n",
    "conn.close()"
   ]
  },
  {
   "cell_type": "code",
   "execution_count": 5,
   "metadata": {},
   "outputs": [],
   "source": [
    "#Create Index on fac\n",
    "conn = sq.connect('./SEC_reporting.sqlite')\n",
    "cursor = conn.cursor()\n",
    "cursor.execute(\n",
    "\"\"\"\n",
    "CREATE INDEX fct ON tblMasterFact(fact)\n",
    "\"\"\"    \n",
    ")\n",
    "conn.commit()\n",
    "conn.close()"
   ]
  },
  {
   "cell_type": "code",
   "execution_count": 11,
   "metadata": {},
   "outputs": [],
   "source": [
    "#Create list for the iteration \n",
    "conn = sq.connect('./SEC_reporting.sqlite')\n",
    "tickerFyList = pd.read_sql(\n",
    "\"\"\"\n",
    "SELECT DISTINCT nodeID\n",
    "FROM tblMasterFact A1\n",
    "ORDER BY nodeID\n",
    "\"\"\"\n",
    ",conn).values\n",
    "conn.close()"
   ]
  },
  {
   "cell_type": "code",
   "execution_count": null,
   "metadata": {},
   "outputs": [],
   "source": [
    "dtale.show(tickerFyList)"
   ]
  },
  {
   "cell_type": "code",
   "execution_count": 7,
   "metadata": {
    "tags": []
   },
   "outputs": [
    {
     "name": "stderr",
     "output_type": "stream",
     "text": [
      "100%|██████████| 57556/57556 [36:47:04<00:00,  2.30s/it]   \n"
     ]
    }
   ],
   "source": [
    "#Calculate similarity score\n",
    "conn = sq.connect('./SEC_reporting.sqlite')\n",
    "cursor = conn.cursor()\n",
    "\n",
    "for t in tqdm(tickerFyList):\n",
    "    cursor.execute(\n",
    "    \"\"\"\n",
    "    INSERT INTO tblSimilarityScoring (SourceTickerFy,TargetTickerFy,SimilarityScore)\n",
    "    \n",
    "    SELECT \n",
    "             A1.nodeID AS SourceTickerFy\n",
    "            ,A2.nodeID AS TargetTickerFy\n",
    "            ,(1.*COUNT(*)/(A1.numberOfFactsPerNode+A2.numberOfFactsPerNode-COUNT(*)))*(1./(1+AVG(ABS(A1.percentileVal-A2.percentileVal)))) SimilarityScore\n",
    "    FROM (\n",
    "            SELECT *\n",
    "            FROM tblMasterFact\n",
    "            WHERE nodeID = '\"\"\" + t[0] + \"\"\"'\n",
    "         ) A1\n",
    "    INNER JOIN tblMasterFact A2 \n",
    "        ON A1.fact = A2.fact\n",
    "    WHERE A1.nodeID < A2.nodeID \n",
    "    GROUP BY A1.nodeID,A2.nodeID \n",
    "    \"\"\"    \n",
    "    )\n",
    "conn.commit()\n",
    "conn.close()"
   ]
  },
  {
   "cell_type": "code",
   "execution_count": null,
   "metadata": {
    "collapsed": true,
    "jupyter": {
     "outputs_hidden": true
    },
    "tags": []
   },
   "outputs": [],
   "source": [
    "#Create truncated similarity scoring matrix with top 1% of score\n",
    "conn = sq.connect('./SEC_reporting.sqlite')\n",
    "cursor = conn.cursor()\n",
    "cursor.execute(\n",
    "\"\"\"\n",
    "CREATE TABLE tblSimilarityScoringTruncated (SourceTickerFy VARCHAR, TargetTickerFy VARCHAR, SimilarityScore REAL)\n",
    "\"\"\"    \n",
    ")\n",
    "conn.commit()\n",
    "conn.close()"
   ]
  },
  {
   "cell_type": "code",
   "execution_count": null,
   "metadata": {
    "collapsed": true,
    "jupyter": {
     "outputs_hidden": true
    },
    "tags": []
   },
   "outputs": [],
   "source": [
    "dtale.show(pd.read_sql(\n",
    "\"\"\"\n",
    "SELECT COUNT(*)\n",
    "FROM tblSimilarityScoring\n",
    "\"\"\"\n",
    ",pdConn))\n",
    "#1'632'658'223\n",
    "print (1632658223*0.01)\n",
    "#16326582"
   ]
  },
  {
   "cell_type": "code",
   "execution_count": null,
   "metadata": {
    "collapsed": true,
    "jupyter": {
     "outputs_hidden": true
    },
    "tags": []
   },
   "outputs": [],
   "source": [
    "#Create truncated similarity scoring matrix with top 1% of score\n",
    "conn = sq.connect('./SEC_reporting.sqlite')\n",
    "cursor = conn.cursor()\n",
    "cursor.execute(\n",
    "\"\"\"\n",
    "INSERT INTO tblSimilarityScoringTruncated (SourceTickerFy,TargetTickerFy,SimilarityScore)\n",
    "\n",
    "SELECT SourceTickerFy,TargetTickerFy,SimilarityScore\n",
    "FROM tblSimilarityScoring\n",
    "ORDER BY SimilarityScore DESC\n",
    "LIMIT 16326582\n",
    "\"\"\"    \n",
    ")\n",
    "conn.commit()\n",
    "conn.close()"
   ]
  },
  {
   "cell_type": "code",
   "execution_count": 4,
   "metadata": {},
   "outputs": [],
   "source": [
    "#Drop similarity matrix to save space\n",
    "conn = sq.connect('./SEC_reporting.sqlite')\n",
    "cursor = conn.cursor()\n",
    "cursor.execute(\n",
    "\"\"\"\n",
    "DROP TABLE tblSimilarityScoring\n",
    "\"\"\"    \n",
    ")\n",
    "cursor.execute(\n",
    "\"\"\"\n",
    "VACUUM\n",
    "\"\"\"    \n",
    ")\n",
    "conn.commit()\n",
    "conn.close()"
   ]
  },
  {
   "cell_type": "markdown",
   "metadata": {},
   "source": [
    "##### Exploration"
   ]
  },
  {
   "cell_type": "code",
   "execution_count": 3,
   "metadata": {},
   "outputs": [],
   "source": [
    "pdConn = sq.connect('./SEC_reporting.sqlite')"
   ]
  },
  {
   "cell_type": "code",
   "execution_count": 43,
   "metadata": {
    "tags": []
   },
   "outputs": [],
   "source": [
    "#Test outcome on Silicon Valley Bank\n",
    "output=pd.read_sql(\n",
    "\"\"\"\n",
    "SELECT*\n",
    "FROM\n",
    "    (\n",
    "    SELECT TargetTickerFy, SimilarityScore\n",
    "    FROM tblSimilarityScoringTruncated\n",
    "    WHERE SourceTickerFy = 'SIVB_2021' \n",
    "        AND SUBSTRING(SourceTickerFy,1,INSTR(SourceTickerFy,'_')) <> SUBSTRING(TargetTickerFy,1,INSTR(TargetTickerFy,'_'))\n",
    "    UNION\n",
    "    SELECT SourceTickerFy, SimilarityScore\n",
    "    FROM tblSimilarityScoringTruncated\n",
    "    WHERE TargetTickerFy = 'SIVB_2021' \n",
    "        AND SUBSTRING(SourceTickerFy,1,INSTR(SourceTickerFy,'_')) <> SUBSTRING(TargetTickerFy,1,INSTR(TargetTickerFy,'_'))\n",
    "    ) X\n",
    "\n",
    "ORDER BY SimilarityScore DESC\n",
    "LIMIT 500\n",
    "\"\"\"\n",
    ",pdConn)"
   ]
  },
  {
   "cell_type": "code",
   "execution_count": 40,
   "metadata": {},
   "outputs": [],
   "source": [
    "pd.read_sql(\n",
    "\"\"\"\n",
    "SELECT ABS(A.percentileVal-B.percentileVal) ABS_error, A.fact,A.percentileVal Aval, B.percentileVal Bval,A.numberOfFactsPerNode AFacts, B.numberOfFactsPerNode Bfacts\n",
    "FROM tblMasterFact A\n",
    "INNER JOIN tblMasterFact B\n",
    "ON A.fact = B.fact\n",
    "WHERE A.nodeID = 'SIVB_2021' AND B.nodeID = 'HBANM_2021'\n",
    "ORDER BY 1\n",
    "\"\"\"\n",
    ",pdConn)"
   ]
  },
  {
   "cell_type": "code",
   "execution_count": 34,
   "metadata": {},
   "outputs": [
    {
     "data": {
      "text/html": [
       "<div>\n",
       "<style scoped>\n",
       "    .dataframe tbody tr th:only-of-type {\n",
       "        vertical-align: middle;\n",
       "    }\n",
       "\n",
       "    .dataframe tbody tr th {\n",
       "        vertical-align: top;\n",
       "    }\n",
       "\n",
       "    .dataframe thead th {\n",
       "        text-align: right;\n",
       "    }\n",
       "</style>\n",
       "<table border=\"1\" class=\"dataframe\">\n",
       "  <thead>\n",
       "    <tr style=\"text-align: right;\">\n",
       "      <th></th>\n",
       "      <th>COUNT(*)</th>\n",
       "    </tr>\n",
       "  </thead>\n",
       "  <tbody>\n",
       "    <tr>\n",
       "      <th>0</th>\n",
       "      <td>16326582</td>\n",
       "    </tr>\n",
       "  </tbody>\n",
       "</table>\n",
       "</div>"
      ],
      "text/plain": [
       "   COUNT(*)\n",
       "0  16326582"
      ]
     },
     "execution_count": 34,
     "metadata": {},
     "output_type": "execute_result"
    }
   ],
   "source": [
    "pd.read_sql(\n",
    "\"\"\"\n",
    "SELECT COUNT(*)\n",
    "FROM tblSimilarityScoringTruncated\n",
    "\"\"\"\n",
    ",pdConn)"
   ]
  },
  {
   "cell_type": "code",
   "execution_count": 37,
   "metadata": {},
   "outputs": [
    {
     "data": {
      "text/html": [
       "<div>\n",
       "<style scoped>\n",
       "    .dataframe tbody tr th:only-of-type {\n",
       "        vertical-align: middle;\n",
       "    }\n",
       "\n",
       "    .dataframe tbody tr th {\n",
       "        vertical-align: top;\n",
       "    }\n",
       "\n",
       "    .dataframe thead th {\n",
       "        text-align: right;\n",
       "    }\n",
       "</style>\n",
       "<table border=\"1\" class=\"dataframe\">\n",
       "  <thead>\n",
       "    <tr style=\"text-align: right;\">\n",
       "      <th></th>\n",
       "      <th>SourceTickerFy</th>\n",
       "    </tr>\n",
       "  </thead>\n",
       "  <tbody>\n",
       "    <tr>\n",
       "      <th>0</th>\n",
       "      <td>AAC-UN_2021</td>\n",
       "    </tr>\n",
       "    <tr>\n",
       "      <th>1</th>\n",
       "      <td>AAC-WT_2021</td>\n",
       "    </tr>\n",
       "    <tr>\n",
       "      <th>2</th>\n",
       "      <td>AACIU_2021</td>\n",
       "    </tr>\n",
       "    <tr>\n",
       "      <th>3</th>\n",
       "      <td>AACIW_2021</td>\n",
       "    </tr>\n",
       "    <tr>\n",
       "      <th>4</th>\n",
       "      <td>AAIC-PB_2011</td>\n",
       "    </tr>\n",
       "    <tr>\n",
       "      <th>...</th>\n",
       "      <td>...</td>\n",
       "    </tr>\n",
       "    <tr>\n",
       "      <th>56856</th>\n",
       "      <td>MLYF_2021</td>\n",
       "    </tr>\n",
       "    <tr>\n",
       "      <th>56857</th>\n",
       "      <td>AFHIF_2021</td>\n",
       "    </tr>\n",
       "    <tr>\n",
       "      <th>56858</th>\n",
       "      <td>YCQH_2021</td>\n",
       "    </tr>\n",
       "    <tr>\n",
       "      <th>56859</th>\n",
       "      <td>ZTS_2021</td>\n",
       "    </tr>\n",
       "    <tr>\n",
       "      <th>56860</th>\n",
       "      <td>KMPR_2010</td>\n",
       "    </tr>\n",
       "  </tbody>\n",
       "</table>\n",
       "<p>56861 rows × 1 columns</p>\n",
       "</div>"
      ],
      "text/plain": [
       "      SourceTickerFy\n",
       "0        AAC-UN_2021\n",
       "1        AAC-WT_2021\n",
       "2         AACIU_2021\n",
       "3         AACIW_2021\n",
       "4       AAIC-PB_2011\n",
       "...              ...\n",
       "56856      MLYF_2021\n",
       "56857     AFHIF_2021\n",
       "56858      YCQH_2021\n",
       "56859       ZTS_2021\n",
       "56860      KMPR_2010\n",
       "\n",
       "[56861 rows x 1 columns]"
      ]
     },
     "execution_count": 37,
     "metadata": {},
     "output_type": "execute_result"
    }
   ],
   "source": [
    "pd.read_sql(\n",
    "\"\"\"\n",
    "SELECT DISTINCT SourceTickerFy\n",
    "FROM tblSimilarityScoringTruncated\n",
    "\"\"\"\n",
    ",pdConn)"
   ]
  },
  {
   "cell_type": "code",
   "execution_count": 12,
   "metadata": {},
   "outputs": [],
   "source": [
    "output=pd.read_sql(\n",
    "\"\"\"\n",
    "SELECT DISTINCT TargetTickerFy\n",
    "FROM tblSimilarityScoringTruncated\n",
    "UNION\n",
    "SELECT DISTINCT SourceTickerFy\n",
    "FROM tblSimilarityScoringTruncated \n",
    "\"\"\"\n",
    ",pdConn)"
   ]
  },
  {
   "cell_type": "code",
   "execution_count": null,
   "metadata": {},
   "outputs": [],
   "source": []
  }
 ],
 "metadata": {
  "colab": {
   "collapsed_sections": [],
   "provenance": []
  },
  "kernelspec": {
   "display_name": "Python 3 (ipykernel)",
   "language": "python",
   "name": "python3"
  },
  "language_info": {
   "codemirror_mode": {
    "name": "ipython",
    "version": 3
   },
   "file_extension": ".py",
   "mimetype": "text/x-python",
   "name": "python",
   "nbconvert_exporter": "python",
   "pygments_lexer": "ipython3",
   "version": "3.9.13"
  }
 },
 "nbformat": 4,
 "nbformat_minor": 4
}
